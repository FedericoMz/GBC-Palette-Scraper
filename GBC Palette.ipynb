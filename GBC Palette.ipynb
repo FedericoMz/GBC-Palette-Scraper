{
 "cells": [
  {
   "cell_type": "code",
   "execution_count": 1,
   "id": "7e582244",
   "metadata": {},
   "outputs": [],
   "source": [
    "import pandas as pd \n",
    "import requests \n",
    "from bs4 import BeautifulSoup\n",
    "import re\n",
    "import os"
   ]
  },
  {
   "cell_type": "code",
   "execution_count": 2,
   "id": "f0229943",
   "metadata": {},
   "outputs": [],
   "source": [
    "def save_palette(colors, file_path):\n",
    "    directory = os.path.dirname(file_path)\n",
    "    if not os.path.exists(directory):\n",
    "        os.makedirs(directory)\n",
    "        \n",
    "    # Open the file in binary mode\n",
    "    with open(file_path, 'wb') as file:\n",
    "        # Iterate through the RGB colors and convert them to bytes\n",
    "        for color in colors:\n",
    "            # Convert hexadecimal to bytes (3 bytes for RGB)\n",
    "            rgb_bytes = bytes.fromhex(color)\n",
    "            # Write the RGB bytes to the file\n",
    "            file.write(rgb_bytes)\n",
    "\n",
    "        # Write the LCDoff and footer\n",
    "        lcd_off_footer = b'\\xFF\\xFF\\xFF\\x81\\x41\\x50\\x47\\x42'\n",
    "        file.write(lcd_off_footer)\n"
   ]
  },
  {
   "cell_type": "code",
   "execution_count": 3,
   "id": "c3543cc5",
   "metadata": {},
   "outputs": [],
   "source": [
    "wikiurl=\"https://tcrf.net/Notes:Game_Boy_Color_Bootstrap_ROM\"\n",
    "table_class=\"wikitable sortable jquery-tablesorter\"\n",
    "response=requests.get(wikiurl)"
   ]
  },
  {
   "cell_type": "code",
   "execution_count": 4,
   "id": "55268c1f",
   "metadata": {},
   "outputs": [],
   "source": [
    "soup = BeautifulSoup(response.text, 'html.parser')\n",
    "indiatable=soup.find_all('table',{'class':\"wikitable\"})"
   ]
  },
  {
   "cell_type": "markdown",
   "id": "8f3ca525",
   "metadata": {},
   "source": [
    "# Game-specific palettes"
   ]
  },
  {
   "cell_type": "code",
   "execution_count": 5,
   "id": "29c9d104",
   "metadata": {},
   "outputs": [
    {
     "name": "stderr",
     "output_type": "stream",
     "text": [
      "/var/folders/fc/cqjdw3l979389bq78c5trk_m0000gn/T/ipykernel_13518/986333895.py:1: FutureWarning: Passing literal html to 'read_html' is deprecated and will be removed in a future version. To read from a literal string, wrap it in a 'StringIO' object.\n",
      "  df=pd.read_html(str(indiatable[1]))\n"
     ]
    }
   ],
   "source": [
    "df=pd.read_html(str(indiatable[1]))\n",
    "df=pd.DataFrame(df[0])\n",
    "for col in ['Color 0', 'Color 1', 'Color 2', 'Color 3']:\n",
    "    df[col] = df[col].str.slice(start=2)\n",
    "    \n",
    "games_list = []\n",
    "pattern = r'(?<=\\)) (?=[^(])'\n",
    "for game in df['Games'].tolist():\n",
    "    games_list.append(re.split(pattern, game))"
   ]
  },
  {
   "cell_type": "code",
   "execution_count": 6,
   "id": "0f542a84",
   "metadata": {},
   "outputs": [],
   "source": [
    "c0 = df['Color 0'].tolist()\n",
    "c1 = df['Color 1'].tolist()\n",
    "c2 = df['Color 2'].tolist()\n",
    "c3 = df['Color 3'].tolist()"
   ]
  },
  {
   "cell_type": "code",
   "execution_count": 7,
   "id": "92771f05",
   "metadata": {},
   "outputs": [],
   "source": [
    "for i in range(0, len(df), 3):\n",
    "    \n",
    "    colors_to_save = [\n",
    "    c0[i], c1[i], c2[i], c3[i],  # BG\n",
    "    c0[i+1], c1[i+1], c2[i+1], c3[i+1],  # OBJ1\n",
    "    c0[i+2], c1[i+2], c2[i+2], c3[i+2],  # OBJ2\n",
    "    c0[i], c1[i], c2[i], c3[i],  # Window [same as BG]\n",
    "    ]\n",
    "    \n",
    "    for title in games_list[i]:\n",
    "        save_palette(colors_to_save, 'Palettes/games/'+title+'.pal')"
   ]
  },
  {
   "cell_type": "markdown",
   "id": "8feb5eb3",
   "metadata": {},
   "source": [
    "# Button Combo Palettes"
   ]
  },
  {
   "cell_type": "code",
   "execution_count": 8,
   "id": "76d38eb9",
   "metadata": {},
   "outputs": [
    {
     "name": "stderr",
     "output_type": "stream",
     "text": [
      "/var/folders/fc/cqjdw3l979389bq78c5trk_m0000gn/T/ipykernel_13518/1539976362.py:1: FutureWarning: Passing literal html to 'read_html' is deprecated and will be removed in a future version. To read from a literal string, wrap it in a 'StringIO' object.\n",
      "  df=pd.read_html(str(indiatable[0]))\n"
     ]
    }
   ],
   "source": [
    "df=pd.read_html(str(indiatable[0]))\n",
    "df=pd.DataFrame(df[0])\n",
    "for col in ['Color 0x00', 'Color 0x01', 'Color 0x02', 'Color 0x03']:\n",
    "    df[col] = df[col].str.slice(start=2)\n",
    "combos = df.iloc[:, 0].to_list()"
   ]
  },
  {
   "cell_type": "code",
   "execution_count": 9,
   "id": "74366bf6",
   "metadata": {},
   "outputs": [],
   "source": [
    "c0 = df['Color 0x00'].tolist()\n",
    "c1 = df['Color 0x01'].tolist()\n",
    "c2 = df['Color 0x02'].tolist()\n",
    "c3 = df['Color 0x03'].tolist()"
   ]
  },
  {
   "cell_type": "code",
   "execution_count": 10,
   "id": "ef71a8ba",
   "metadata": {},
   "outputs": [],
   "source": [
    "for i in range(0, len(df), 3):\n",
    "    \n",
    "    colors_to_save = [\n",
    "    c0[i], c1[i], c2[i], c3[i],  # BG\n",
    "    c0[i+1], c1[i+1], c2[i+1], c3[i+1],  # OBJ1\n",
    "    c0[i+2], c1[i+2], c2[i+2], c3[i+2],  # OBJ2\n",
    "    c0[i], c1[i], c2[i], c3[i],  # Window [same as BG]\n",
    "    ]\n",
    "    \n",
    "    save_palette(colors_to_save, 'Palettes/combo/'+combos[i]+'.pal')"
   ]
  },
  {
   "cell_type": "markdown",
   "id": "53c7c236",
   "metadata": {},
   "source": [
    "# Unused"
   ]
  },
  {
   "cell_type": "code",
   "execution_count": 11,
   "id": "2660e9dc",
   "metadata": {},
   "outputs": [],
   "source": [
    "wikiurl=\"https://tcrf.net/Game_Boy_Color_Bootstrap_ROM\"\n",
    "table_class=\"wikitable sortable jquery-tablesorter\"\n",
    "response=requests.get(wikiurl)"
   ]
  },
  {
   "cell_type": "code",
   "execution_count": 12,
   "id": "6399085d",
   "metadata": {},
   "outputs": [],
   "source": [
    "soup = BeautifulSoup(response.text, 'html.parser')\n",
    "indiatable=soup.find_all('table',{'class':\"wikitable\"})"
   ]
  },
  {
   "cell_type": "code",
   "execution_count": 13,
   "id": "77a87d76",
   "metadata": {},
   "outputs": [
    {
     "name": "stderr",
     "output_type": "stream",
     "text": [
      "/var/folders/fc/cqjdw3l979389bq78c5trk_m0000gn/T/ipykernel_13518/2998305007.py:1: FutureWarning: Passing literal html to 'read_html' is deprecated and will be removed in a future version. To read from a literal string, wrap it in a 'StringIO' object.\n",
      "  df=pd.read_html(str(indiatable[0]))\n"
     ]
    }
   ],
   "source": [
    "df=pd.read_html(str(indiatable[0]))\n",
    "df=pd.DataFrame(df[0])\n",
    "for col in ['Color 0', 'Color 1', 'Color 2', 'Color 3']:\n",
    "    df[col] = df[col].str.slice(start=2)\n"
   ]
  },
  {
   "cell_type": "code",
   "execution_count": 14,
   "id": "ebdc1813",
   "metadata": {},
   "outputs": [],
   "source": [
    "c0 = df['Color 0'].tolist()\n",
    "c1 = df['Color 1'].tolist()\n",
    "c2 = df['Color 2'].tolist()\n",
    "c3 = df['Color 3'].tolist()"
   ]
  },
  {
   "cell_type": "code",
   "execution_count": 15,
   "id": "7914d779",
   "metadata": {},
   "outputs": [],
   "source": [
    "for i in range(0, len(df), 3):\n",
    "    \n",
    "    colors_to_save = [\n",
    "    c0[i], c1[i], c2[i], c3[i],  # BG\n",
    "    c0[i+1], c1[i+1], c2[i+1], c3[i+1],  # OBJ1\n",
    "    c0[i+2], c1[i+2], c2[i+2], c3[i+2],  # OBJ2\n",
    "    c0[i], c1[i], c2[i], c3[i],  # Window [same as BG]\n",
    "    ]\n",
    "    \n",
    "    name = 'Unused' + str(int(i/3))\n",
    "    save_palette(colors_to_save, 'Palettes/unused/'+name+'.pal')"
   ]
  },
  {
   "cell_type": "code",
   "execution_count": null,
   "id": "c25f4d23",
   "metadata": {},
   "outputs": [],
   "source": []
  }
 ],
 "metadata": {
  "kernelspec": {
   "display_name": "Python 3 (ipykernel)",
   "language": "python",
   "name": "python3"
  },
  "language_info": {
   "codemirror_mode": {
    "name": "ipython",
    "version": 3
   },
   "file_extension": ".py",
   "mimetype": "text/x-python",
   "name": "python",
   "nbconvert_exporter": "python",
   "pygments_lexer": "ipython3",
   "version": "3.9.18"
  }
 },
 "nbformat": 4,
 "nbformat_minor": 5
}
